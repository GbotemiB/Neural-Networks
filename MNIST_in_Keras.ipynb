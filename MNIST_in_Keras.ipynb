{
  "nbformat": 4,
  "nbformat_minor": 0,
  "metadata": {
    "kernelspec": {
      "display_name": "Python 3",
      "language": "python",
      "name": "python3"
    },
    "language_info": {
      "codemirror_mode": {
        "name": "ipython",
        "version": 3
      },
      "file_extension": ".py",
      "mimetype": "text/x-python",
      "name": "python",
      "nbconvert_exporter": "python",
      "pygments_lexer": "ipython3",
      "version": "3.5.1"
    },
    "colab": {
      "name": "MNIST in Keras.ipynb",
      "provenance": [],
      "collapsed_sections": [],
      "include_colab_link": true
    }
  },
  "cells": [
    {
      "cell_type": "markdown",
      "metadata": {
        "id": "view-in-github",
        "colab_type": "text"
      },
      "source": [
        "<a href=\"https://colab.research.google.com/github/GbotemiB/Neural-Networks/blob/master/MNIST_in_Keras.ipynb\" target=\"_parent\"><img src=\"https://colab.research.google.com/assets/colab-badge.svg\" alt=\"Open In Colab\"/></a>"
      ]
    },
    {
      "cell_type": "code",
      "metadata": {
        "id": "T0INgTG_hzmF",
        "colab_type": "code",
        "colab": {}
      },
      "source": [
        "%matplotlib inline"
      ],
      "execution_count": null,
      "outputs": []
    },
    {
      "cell_type": "markdown",
      "metadata": {
        "id": "3tfXQAsIhzmQ",
        "colab_type": "text"
      },
      "source": [
        "# Building a simple neural-network with Keras\n",
        "\n",
        "**Author: Xavier Snelgrove**\n",
        "\n",
        "This is a simple quick-start in performing digit recognition in a neural network in Keras, for a short tutorial at the University of Toronto. It is largely based on the `mnist_mlp.py` example from the Keras source.\n"
      ]
    },
    {
      "cell_type": "markdown",
      "metadata": {
        "id": "o9bX8g8yhzmR",
        "colab_type": "text"
      },
      "source": [
        "## Install prerequisites\n",
        "First steps (instructions for Mac or Linux). You need to install a recent version of Python, plus the packages `keras`, `numpy`, `matplotlib` and `jupyter`.\n",
        "\n",
        "### Install a recent Python\n",
        "\n",
        "If you haven't installed a recent Python I recommend installing via Homebrew on a Mac from http://brew.sh and then installing Python via `brew install python`.\n",
        "\n",
        "\n",
        "### Configure a virtual environment\n",
        "\n",
        "You can install the packages globally, but I suggest installing them in a `virtualenv` virtual environment that basically encapsulates a full isolated Python environment. First you'll need to install a Python package manager called `pip` thus:\n",
        "\n",
        "    easy_install pip\n",
        "    \n",
        "(If you get a permissions error, try adding a `sudo` to the beginning, so `sudo easy_install pip`)\n",
        "\n",
        "Now install virtualenv thus:\n",
        "\n",
        "    pip install virtualenv\n",
        "\n",
        "Navigate to your home directory `cd ~` and create a virtual environment. We'll call it `kerasenv`\n",
        "\n",
        "    virtualenv kerasenv\n",
        "\n",
        "Now, to switch your shell environment to be within the env:\n",
        "\n",
        "    source kerasenv/bin/activate\n",
        "    \n",
        "Great: now you can install the other prerequisites into this environment.\n",
        "\n",
        "    pip install numpy jupyter keras matplotlib\n",
        "    \n",
        "\n",
        "## Open a new notebook\n",
        "\n",
        "Now that everything's installed, you can open one of these web-based Python environments with the following command:\n",
        "\n",
        "    ipython notebook\n",
        "    \n",
        "Create a new Python notebook from the \"New\" menu at the top-right:\n",
        "\n",
        "<img src=\"newnotebook.png\">\n",
        "\n",
        "You should now be able to run Python in your browser!"
      ]
    },
    {
      "cell_type": "markdown",
      "metadata": {
        "id": "og0pgzDIhzmS",
        "colab_type": "text"
      },
      "source": [
        "## Time to build a neural network!\n",
        "First let's import some prerequisites"
      ]
    },
    {
      "cell_type": "code",
      "metadata": {
        "id": "tCxrrVa0hzmT",
        "colab_type": "code",
        "colab": {
          "base_uri": "https://localhost:8080/",
          "height": 34
        },
        "outputId": "bbaf9679-85ae-4dcb-bb4a-069173f5ef30"
      },
      "source": [
        "import numpy as np\n",
        "import matplotlib.pyplot as plt\n",
        "plt.rcParams['figure.figsize'] = (7,7) # Make the figures a bit bigger\n",
        "\n",
        "from keras.datasets import mnist\n",
        "from keras.models import Sequential\n",
        "from keras.layers.core import Dense, Dropout, Activation\n",
        "from keras.utils import np_utils"
      ],
      "execution_count": null,
      "outputs": [
        {
          "output_type": "stream",
          "text": [
            "Using TensorFlow backend.\n"
          ],
          "name": "stderr"
        }
      ]
    },
    {
      "cell_type": "markdown",
      "metadata": {
        "id": "sAUimX37hzma",
        "colab_type": "text"
      },
      "source": [
        "## Load training data"
      ]
    },
    {
      "cell_type": "code",
      "metadata": {
        "id": "H3OaTPb_hzmb",
        "colab_type": "code",
        "colab": {
          "base_uri": "https://localhost:8080/",
          "height": 85
        },
        "outputId": "edc148ca-ca1e-443f-9bdc-ce387c71d3a1"
      },
      "source": [
        "nb_classes = 10\n",
        "\n",
        "# the data, shuffled and split between tran and test sets\n",
        "(X_train, y_train), (X_test, y_test) = mnist.load_data()\n",
        "print(\"X_train original shape\", X_train.shape)\n",
        "print(\"y_train original shape\", y_train.shape)"
      ],
      "execution_count": null,
      "outputs": [
        {
          "output_type": "stream",
          "text": [
            "Downloading data from https://s3.amazonaws.com/img-datasets/mnist.npz\n",
            "11493376/11490434 [==============================] - 2s 0us/step\n",
            "X_train original shape (60000, 28, 28)\n",
            "y_train original shape (60000,)\n"
          ],
          "name": "stdout"
        }
      ]
    },
    {
      "cell_type": "markdown",
      "metadata": {
        "id": "tiigMGwDhzmg",
        "colab_type": "text"
      },
      "source": [
        "Let's look at some examples of the training data"
      ]
    },
    {
      "cell_type": "code",
      "metadata": {
        "id": "WwXyOvLwhzmh",
        "colab_type": "code",
        "colab": {
          "base_uri": "https://localhost:8080/",
          "height": 444
        },
        "outputId": "0dc22324-87be-4a86-fb68-3634fd47b8fe"
      },
      "source": [
        "for i in range(9):\n",
        "    plt.subplot(3,3,i+1)\n",
        "    plt.imshow(X_train[i], cmap='gray', interpolation='none')\n",
        "    plt.title(\"Class {}\".format(y_train[i]))"
      ],
      "execution_count": null,
      "outputs": [
        {
          "output_type": "display_data",
          "data": {
            "image/png": "[encoded data removed]",
            "text/plain": [
              "<Figure size 504x504 with 9 Axes>"
            ]
          },
          "metadata": {
            "tags": [],
            "needs_background": "light"
          }
        }
      ]
    },
    {
      "cell_type": "markdown",
      "metadata": {
        "id": "gY2T6kM7hzmm",
        "colab_type": "text"
      },
      "source": [
        "## Format the data for training\n",
        "Our neural-network is going to take a single vector for each training example, so we need to reshape the input so that each 28x28 image becomes a single 784 dimensional vector. We'll also scale the inputs to be in the range [0-1] rather than [0-255]"
      ]
    },
    {
      "cell_type": "code",
      "metadata": {
        "id": "cZkVyO9ohzmn",
        "colab_type": "code",
        "colab": {
          "base_uri": "https://localhost:8080/",
          "height": 51
        },
        "outputId": "6822e363-7613-426f-8733-0e8d7d01c1a3"
      },
      "source": [
        "X_train = X_train.reshape(60000, 784)\n",
        "X_test = X_test.reshape(10000, 784)\n",
        "X_train = X_train.astype('float32')\n",
        "X_test = X_test.astype('float32')\n",
        "X_train /= 255\n",
        "X_test /= 255\n",
        "print(\"Training matrix shape\", X_train.shape)\n",
        "print(\"Testing matrix shape\", X_test.shape)"
      ],
      "execution_count": null,
      "outputs": [
        {
          "output_type": "stream",
          "text": [
            "Training matrix shape (60000, 784)\n",
            "Testing matrix shape (10000, 784)\n"
          ],
          "name": "stdout"
        }
      ]
    },
    {
      "cell_type": "markdown",
      "metadata": {
        "id": "J2EVzeKRhzm7",
        "colab_type": "text"
      },
      "source": [
        "Modify the target matrices to be in the one-hot format, i.e.\n",
        "\n",
        "```\n",
        "0 -> [1, 0, 0, 0, 0, 0, 0, 0, 0]\n",
        "1 -> [0, 1, 0, 0, 0, 0, 0, 0, 0]\n",
        "2 -> [0, 0, 1, 0, 0, 0, 0, 0, 0]\n",
        "etc.\n",
        "```"
      ]
    },
    {
      "cell_type": "code",
      "metadata": {
        "id": "PWiqQM58hznD",
        "colab_type": "code",
        "colab": {}
      },
      "source": [
        "Y_train = np_utils.to_categorical(y_train, nb_classes)\n",
        "Y_test = np_utils.to_categorical(y_test, nb_classes)"
      ],
      "execution_count": null,
      "outputs": []
    },
    {
      "cell_type": "markdown",
      "metadata": {
        "id": "PCw0jTNthznP",
        "colab_type": "text"
      },
      "source": [
        "# Build the neural network\n",
        "Build the neural-network. Here we'll do a simple 3 layer fully connected network.\n",
        "<img src=\"figure.png\" />"
      ]
    },
    {
      "cell_type": "code",
      "metadata": {
        "id": "z-4aDHnJhznS",
        "colab_type": "code",
        "colab": {}
      },
      "source": [
        "model = Sequential()\n",
        "model.add(Dense(512, input_shape=(784,)))\n",
        "model.add(Activation('relu')) # An \"activation\" is just a non-linear function applied to the output\n",
        "                              # of the layer above. Here, with a \"rectified linear unit\",\n",
        "                              # we clamp all values below 0 to 0.\n",
        "                           \n",
        "model.add(Dropout(0.2))   # Dropout helps protect the model from memorizing or \"overfitting\" the training data\n",
        "model.add(Dense(512))\n",
        "model.add(Activation('relu'))\n",
        "model.add(Dropout(0.2))\n",
        "model.add(Dense(10))\n",
        "model.add(Activation('softmax')) # This special \"softmax\" activation among other things,\n",
        "                                 # ensures the output is a valid probaility distribution, that is\n",
        "                                 # that its values are all non-negative and sum to 1."
      ],
      "execution_count": null,
      "outputs": []
    },
    {
      "cell_type": "markdown",
      "metadata": {
        "id": "_Xzk2W0Rhzng",
        "colab_type": "text"
      },
      "source": [
        "## Compile the model\n",
        "Keras is built on top of Theano (and now TensorFlow as well), both packages that allow you to define a *computation graph* in Python, which they then compile and run efficiently on the CPU or GPU without the overhead of the Python interpreter.\n",
        "\n",
        "When compiing a model, Keras asks you to specify your **loss function** and your **optimizer**. The loss function we'll use here is called *categorical crossentropy*, and is a loss function well-suited to comparing two probability distributions.\n",
        "\n",
        "Here our predictions are probability distributions across the ten different digits (e.g. \"we're 80% confident this image is a 3, 10% sure it's an 8, 5% it's a 2, etc.\"), and the target is a probability distribution with 100% for the correct category, and 0 for everything else. The cross-entropy is a measure of how different your predicted distribution is from the target distribution. [More detail at Wikipedia](https://en.wikipedia.org/wiki/Cross_entropy)\n",
        "\n",
        "The optimizer helps determine how quickly the model learns, how resistent it is to getting \"stuck\" or \"blowing up\". We won't discuss this in too much detail, but \"adam\" is often a good choice (developed here at U of T)."
      ]
    },
    {
      "cell_type": "code",
      "metadata": {
        "id": "sBAjWMSPhznh",
        "colab_type": "code",
        "colab": {}
      },
      "source": [
        "model.compile(loss='categorical_crossentropy',metrics=['accuracy'], optimizer='adam')"
      ],
      "execution_count": null,
      "outputs": []
    },
    {
      "cell_type": "markdown",
      "metadata": {
        "id": "-1eRrX4vhznq",
        "colab_type": "text"
      },
      "source": [
        "## Train the model!\n",
        "This is the fun part: you can feed the training data loaded in earlier into this model and it will learn to classify digits"
      ]
    },
    {
      "cell_type": "code",
      "metadata": {
        "id": "Xp0k2GCAhznq",
        "colab_type": "code",
        "colab": {
          "base_uri": "https://localhost:8080/",
          "height": 683
        },
        "outputId": "ee1761eb-7d4f-49c4-ac1d-73dc5abd3fca"
      },
      "source": [
        "model.fit(X_train, Y_train,\n",
        "          batch_size=128, nb_epoch=17,\n",
        "           verbose=1,\n",
        "          validation_data=(X_test, Y_test))"
      ],
      "execution_count": null,
      "outputs": [
        {
          "output_type": "stream",
          "text": [
            "Train on 60000 samples, validate on 10000 samples\n",
            "Epoch 1/17\n",
            " 1152/60000 [..............................] - ETA: 7s - loss: 0.0816 - accuracy: 0.9766"
          ],
          "name": "stdout"
        },
        {
          "output_type": "stream",
          "text": [
            "/usr/local/lib/python3.6/dist-packages/ipykernel_launcher.py:4: UserWarning: The `nb_epoch` argument in `fit` has been renamed `epochs`.\n",
            "  after removing the cwd from sys.path.\n"
          ],
          "name": "stderr"
        },
        {
          "output_type": "stream",
          "text": [
            "60000/60000 [==============================] - 8s 130us/step - loss: 0.0781 - accuracy: 0.9756 - val_loss: 0.0815 - val_accuracy: 0.9737\n",
            "Epoch 2/17\n",
            "60000/60000 [==============================] - 8s 130us/step - loss: 0.0725 - accuracy: 0.9777 - val_loss: 0.0801 - val_accuracy: 0.9748\n",
            "Epoch 3/17\n",
            "60000/60000 [==============================] - 8s 129us/step - loss: 0.0663 - accuracy: 0.9797 - val_loss: 0.0825 - val_accuracy: 0.9732\n",
            "Epoch 4/17\n",
            "60000/60000 [==============================] - 8s 128us/step - loss: 0.0620 - accuracy: 0.9811 - val_loss: 0.0735 - val_accuracy: 0.9777\n",
            "Epoch 5/17\n",
            "60000/60000 [==============================] - 8s 128us/step - loss: 0.0587 - accuracy: 0.9813 - val_loss: 0.0711 - val_accuracy: 0.9787\n",
            "Epoch 6/17\n",
            "60000/60000 [==============================] - 8s 129us/step - loss: 0.0538 - accuracy: 0.9830 - val_loss: 0.0711 - val_accuracy: 0.9778\n",
            "Epoch 7/17\n",
            "60000/60000 [==============================] - 8s 129us/step - loss: 0.0510 - accuracy: 0.9840 - val_loss: 0.0698 - val_accuracy: 0.9782\n",
            "Epoch 8/17\n",
            "60000/60000 [==============================] - 8s 130us/step - loss: 0.0485 - accuracy: 0.9848 - val_loss: 0.0703 - val_accuracy: 0.9777\n",
            "Epoch 9/17\n",
            "60000/60000 [==============================] - 8s 134us/step - loss: 0.0439 - accuracy: 0.9859 - val_loss: 0.0635 - val_accuracy: 0.9790\n",
            "Epoch 10/17\n",
            "60000/60000 [==============================] - 8s 134us/step - loss: 0.0411 - accuracy: 0.9872 - val_loss: 0.0728 - val_accuracy: 0.9779\n",
            "Epoch 11/17\n",
            "60000/60000 [==============================] - 8s 134us/step - loss: 0.0405 - accuracy: 0.9870 - val_loss: 0.0667 - val_accuracy: 0.9791\n",
            "Epoch 12/17\n",
            "60000/60000 [==============================] - 8s 133us/step - loss: 0.0368 - accuracy: 0.9880 - val_loss: 0.0671 - val_accuracy: 0.9790\n",
            "Epoch 13/17\n",
            "60000/60000 [==============================] - 8s 133us/step - loss: 0.0349 - accuracy: 0.9887 - val_loss: 0.0647 - val_accuracy: 0.9800\n",
            "Epoch 14/17\n",
            "60000/60000 [==============================] - 8s 132us/step - loss: 0.0336 - accuracy: 0.9894 - val_loss: 0.0632 - val_accuracy: 0.9802\n",
            "Epoch 15/17\n",
            "60000/60000 [==============================] - 8s 136us/step - loss: 0.0316 - accuracy: 0.9897 - val_loss: 0.0681 - val_accuracy: 0.9796\n",
            "Epoch 16/17\n",
            "60000/60000 [==============================] - 8s 135us/step - loss: 0.0304 - accuracy: 0.9900 - val_loss: 0.0679 - val_accuracy: 0.9798\n",
            "Epoch 17/17\n",
            "60000/60000 [==============================] - 8s 133us/step - loss: 0.0290 - accuracy: 0.9904 - val_loss: 0.0617 - val_accuracy: 0.9813\n"
          ],
          "name": "stdout"
        },
        {
          "output_type": "execute_result",
          "data": {
            "text/plain": [
              "<keras.callbacks.callbacks.History at 0x7efca0270828>"
            ]
          },
          "metadata": {
            "tags": []
          },
          "execution_count": 24
        }
      ]
    },
    {
      "cell_type": "markdown",
      "metadata": {
        "id": "hczN3N1Uhznz",
        "colab_type": "text"
      },
      "source": [
        "## Finally, evaluate its performance"
      ]
    },
    {
      "cell_type": "code",
      "metadata": {
        "id": "uGj9Rkcrhzn0",
        "colab_type": "code",
        "colab": {
          "base_uri": "https://localhost:8080/",
          "height": 68
        },
        "outputId": "838ce203-c0c7-44cb-97b0-fa04b107dfc5"
      },
      "source": [
        "score = model.evaluate(X_test, Y_test, verbose=0)\n",
        "print('Test score:', score[0])\n",
        "print('Test accuracy:', score[1])\n",
        "print(score)"
      ],
      "execution_count": null,
      "outputs": [
        {
          "output_type": "stream",
          "text": [
            "Test score: 0.061730749047570865\n",
            "Test accuracy: 0.9812999963760376\n",
            "[0.061730749047570865, 0.9812999963760376]\n"
          ],
          "name": "stdout"
        }
      ]
    },
    {
      "cell_type": "markdown",
      "metadata": {
        "id": "Jcr-V8iZhzn4",
        "colab_type": "text"
      },
      "source": [
        "### Inspecting the output\n",
        "\n",
        "It's always a good idea to inspect the output and make sure everything looks sane. Here we'll look at some examples it gets right, and some examples it gets wrong."
      ]
    },
    {
      "cell_type": "code",
      "metadata": {
        "id": "nghLSDMhhzn5",
        "colab_type": "code",
        "colab": {}
      },
      "source": [
        "# The predict_classes function outputs the highest probability class\n",
        "# according to the trained classifier for each input example.\n",
        "predicted_classes = model.predict_classes(X_test)\n",
        "\n",
        "# Check which items we got right / wrong\n",
        "correct_indices = np.nonzero(predicted_classes == y_test)[0]\n",
        "incorrect_indices = np.nonzero(predicted_classes != y_test)[0]"
      ],
      "execution_count": null,
      "outputs": []
    },
    {
      "cell_type": "code",
      "metadata": {
        "id": "HQz2eTS5hzoG",
        "colab_type": "code",
        "colab": {
          "base_uri": "https://localhost:8080/",
          "height": 871
        },
        "outputId": "b1863640-cc89-405a-917f-6a7effe5824e"
      },
      "source": [
        "plt.figure()\n",
        "for i, correct in enumerate(correct_indices[:9]):\n",
        "    plt.subplot(3,3,i+1)\n",
        "    plt.imshow(X_test[correct].reshape(28,28), cmap='gray', interpolation='none')\n",
        "    plt.title(\"Predicted {}, Class {}\".format(predicted_classes[correct], y_test[correct]))\n",
        "    \n",
        "plt.figure()\n",
        "for i, incorrect in enumerate(incorrect_indices[:9]):\n",
        "    plt.subplot(3,3,i+1)\n",
        "    plt.imshow(X_test[incorrect].reshape(28,28), cmap='gray', interpolation='none')\n",
        "    plt.title(\"Predicted {}, Class {}\".format(predicted_classes[incorrect], y_test[incorrect]))"
      ],
      "execution_count": null,
      "outputs": [
        {
          "output_type": "display_data",
          "data": {
            "image/png": "[encoded data removed]",
            "text/plain": [
              "<Figure size 504x504 with 9 Axes>"
            ]
          },
          "metadata": {
            "tags": [],
            "needs_background": "light"
          }
        },
        {
          "output_type": "display_data",
          "data": {
            "image/png": "[encoded data removed]",
            "text/plain": [
              "<Figure size 504x504 with 9 Axes>"
            ]
          },
          "metadata": {
            "tags": [],
            "needs_background": "light"
          }
        }
      ]
    },
    {
      "cell_type": "markdown",
      "metadata": {
        "id": "nOVgfRbQhzoK",
        "colab_type": "text"
      },
      "source": [
        "# That's all!"
      ]
    },
    {
      "cell_type": "markdown",
      "metadata": {
        "id": "jb8cPDOUhzoL",
        "colab_type": "text"
      },
      "source": [
        "There are lots of other great examples at the Keras homepage at http://keras.io and in the source code at https://github.com/fchollet/keras"
      ]
    }
  ]
}